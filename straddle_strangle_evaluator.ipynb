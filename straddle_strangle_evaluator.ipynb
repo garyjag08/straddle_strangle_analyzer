{
 "cells": [
  {
   "cell_type": "markdown",
   "id": "df781996",
   "metadata": {},
   "source": [
    "# Import libraries"
   ]
  },
  {
   "cell_type": "code",
   "execution_count": 2,
   "id": "14159940",
   "metadata": {},
   "outputs": [],
   "source": [
    "\n",
    "import pandas as pd \n"
   ]
  },
  {
   "cell_type": "markdown",
   "id": "a800c6b1",
   "metadata": {},
   "source": [
    "# Methods"
   ]
  },
  {
   "cell_type": "code",
   "execution_count": 3,
   "id": "24b73eca",
   "metadata": {},
   "outputs": [],
   "source": [
    "'''\n",
    "    # Method to set a max_change attribute in the dataframe\n",
    "    # Takes the absolute max_change which is the highest absolute percent from row i Close\n",
    "        to following week's row i+1 Low, High (which ever is higher in terms of magnitude of price change)\n",
    "'''\n",
    "def set_max_change(df):\n",
    "    '''\n",
    "        # ARGS:\n",
    "            dataframe of stock prices containing Open, High, Low, Close, Volume\n",
    "        # Returns:\n",
    "            # Returns a new dataframe with max_change\n",
    "    '''\n",
    "    df['max_high_change'] = (df['High'] / df['Close'].shift(1) - 1).abs()\n",
    "    df['max_low_change'] = (df['Low'] / df['Close'].shift(1) - 1).abs()\n",
    "    df['max_change'] = df[['max_high_change', 'max_low_change']].max(axis=1) * 100\n",
    "\n",
    "    # drop the intermediate columns if not needed\n",
    "    df = df.drop(['max_high_change', 'max_low_change'], axis=1)\n",
    "    return df"
   ]
  },
  {
   "cell_type": "code",
   "execution_count": 4,
   "id": "45252b27",
   "metadata": {},
   "outputs": [],
   "source": [
    "class Evaluate:\n",
    "    def __init__(self):\n",
    "        pass\n",
    "\n",
    "    def add_call_cost(self, call_cost, call_sale):\n",
    "        return call_cost - call_sale\n",
    "    \n",
    "    def add_put_cost(self, put_cost, put_sale):\n",
    "        return put_cost - put_sale        \n",
    "    \n",
    "    def calc_percentage(self, starting_val, ending_val):\n",
    "        difference = abs(ending_val - starting_val)\n",
    "        percent_needed = (difference/starting_val) * 100\n",
    "        return percent_needed\n",
    "    \n",
    "    def calc_break_even_upside(self, call_strike, call_cost):\n",
    "        return call_strike + call_cost       \n",
    "    \n",
    "    def calc_break_even_downside(self, put_strike, put_cost):\n",
    "        return put_strike - put_cost\n",
    "\n",
    "    def calpercent_move(self, starting_val, ending_val):\n",
    "        _difference = abs(starting_val - ending_val)\n",
    "        _difference = (_difference/starting_val) * 100\n",
    "        return _difference\n",
    "    \n",
    "    def find_probability(self, df, move_needed, attr=\"max_change\"):\n",
    "        _goodTrade = 0\n",
    "        for i in range(1, len(df)):\n",
    "            if df.iloc[i][attr] >= move_needed:\n",
    "                _goodTrade += 1\n",
    "        return _goodTrade"
   ]
  },
  {
   "cell_type": "code",
   "execution_count": 5,
   "id": "b5cdb6b6",
   "metadata": {},
   "outputs": [],
   "source": [
    "df = pd.read_csv(\"AAPL.csv\") # read in csv file\n",
    "df = set_max_change(df) # set the max changes"
   ]
  },
  {
   "cell_type": "code",
   "execution_count": 6,
   "id": "d4fe1775",
   "metadata": {},
   "outputs": [
    {
     "data": {
      "text/html": [
       "<div>\n",
       "<style scoped>\n",
       "    .dataframe tbody tr th:only-of-type {\n",
       "        vertical-align: middle;\n",
       "    }\n",
       "\n",
       "    .dataframe tbody tr th {\n",
       "        vertical-align: top;\n",
       "    }\n",
       "\n",
       "    .dataframe thead th {\n",
       "        text-align: right;\n",
       "    }\n",
       "</style>\n",
       "<table border=\"1\" class=\"dataframe\">\n",
       "  <thead>\n",
       "    <tr style=\"text-align: right;\">\n",
       "      <th></th>\n",
       "      <th>Close</th>\n",
       "      <th>High</th>\n",
       "      <th>Low</th>\n",
       "      <th>Open</th>\n",
       "      <th>Volume</th>\n",
       "      <th>max_change</th>\n",
       "    </tr>\n",
       "  </thead>\n",
       "  <tbody>\n",
       "    <tr>\n",
       "      <th>0</th>\n",
       "      <td>122.105629</td>\n",
       "      <td>125.741073</td>\n",
       "      <td>122.046837</td>\n",
       "      <td>123.477494</td>\n",
       "      <td>357615000</td>\n",
       "      <td>NaN</td>\n",
       "    </tr>\n",
       "    <tr>\n",
       "      <th>1</th>\n",
       "      <td>123.359901</td>\n",
       "      <td>123.624479</td>\n",
       "      <td>120.655369</td>\n",
       "      <td>122.566183</td>\n",
       "      <td>278314500</td>\n",
       "      <td>1.243882</td>\n",
       "    </tr>\n",
       "    <tr>\n",
       "      <th>2</th>\n",
       "      <td>124.790565</td>\n",
       "      <td>125.878265</td>\n",
       "      <td>122.321215</td>\n",
       "      <td>123.634280</td>\n",
       "      <td>327048100</td>\n",
       "      <td>2.041477</td>\n",
       "    </tr>\n",
       "    <tr>\n",
       "      <th>3</th>\n",
       "      <td>127.838058</td>\n",
       "      <td>129.886051</td>\n",
       "      <td>124.516183</td>\n",
       "      <td>125.251110</td>\n",
       "      <td>457142800</td>\n",
       "      <td>4.083229</td>\n",
       "    </tr>\n",
       "    <tr>\n",
       "      <th>4</th>\n",
       "      <td>130.434784</td>\n",
       "      <td>131.934033</td>\n",
       "      <td>126.613171</td>\n",
       "      <td>127.681261</td>\n",
       "      <td>354155800</td>\n",
       "      <td>3.204034</td>\n",
       "    </tr>\n",
       "  </tbody>\n",
       "</table>\n",
       "</div>"
      ],
      "text/plain": [
       "        Close        High         Low        Open     Volume  max_change\n",
       "0  122.105629  125.741073  122.046837  123.477494  357615000         NaN\n",
       "1  123.359901  123.624479  120.655369  122.566183  278314500    1.243882\n",
       "2  124.790565  125.878265  122.321215  123.634280  327048100    2.041477\n",
       "3  127.838058  129.886051  124.516183  125.251110  457142800    4.083229\n",
       "4  130.434784  131.934033  126.613171  127.681261  354155800    3.204034"
      ]
     },
     "execution_count": 6,
     "metadata": {},
     "output_type": "execute_result"
    }
   ],
   "source": [
    "df.head()"
   ]
  },
  {
   "cell_type": "code",
   "execution_count": null,
   "id": "ad14534b",
   "metadata": {},
   "outputs": [],
   "source": []
  }
 ],
 "metadata": {
  "kernelspec": {
   "display_name": "Python 3",
   "language": "python",
   "name": "python3"
  },
  "language_info": {
   "codemirror_mode": {
    "name": "ipython",
    "version": 3
   },
   "file_extension": ".py",
   "mimetype": "text/x-python",
   "name": "python",
   "nbconvert_exporter": "python",
   "pygments_lexer": "ipython3",
   "version": "3.12.1"
  }
 },
 "nbformat": 4,
 "nbformat_minor": 5
}
